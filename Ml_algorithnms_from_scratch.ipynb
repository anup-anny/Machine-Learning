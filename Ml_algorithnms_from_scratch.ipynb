{
  "nbformat": 4,
  "nbformat_minor": 0,
  "metadata": {
    "colab": {
      "provenance": [],
      "authorship_tag": "ABX9TyN+OhMCIHIoeQXIiRW0Hqor",
      "include_colab_link": true
    },
    "kernelspec": {
      "name": "python3",
      "display_name": "Python 3"
    },
    "language_info": {
      "name": "python"
    }
  },
  "cells": [
    {
      "cell_type": "markdown",
      "metadata": {
        "id": "view-in-github",
        "colab_type": "text"
      },
      "source": [
        "<a href=\"https://colab.research.google.com/github/anup-anny/Machine-Learning/blob/main/Ml_algorithnms_from_scratch.ipynb\" target=\"_parent\"><img src=\"https://colab.research.google.com/assets/colab-badge.svg\" alt=\"Open In Colab\"/></a>"
      ]
    },
    {
      "cell_type": "markdown",
      "source": [
        "# **Linear regression**"
      ],
      "metadata": {
        "id": "rOvorQpSWkgZ"
      }
    },
    {
      "cell_type": "code",
      "execution_count": 7,
      "metadata": {
        "id": "kuJgGxSYWeM2"
      },
      "outputs": [],
      "source": [
        "import numpy as np\n",
        "import pandas as pd\n",
        "import matplotlib.pyplot as plt\n",
        "\n",
        "class LinearRegression:\n",
        "\n",
        "  def _init_(self,lr = 0.001, n_iters=1000):\n",
        "\n",
        "# initialization lr = learningrate, n_iters = iterations\n",
        "\n",
        "    self.lr = lr\n",
        "    self.n_iters = n_iters\n",
        "    self.bias = None\n",
        "    self.weights = None\n",
        "\n",
        "  def fit(self, X, y):\n",
        "    n_samples,n_features = X.shape()\n",
        "    self.weights = np.zeros(n_features)\n",
        "    self.bias = 0\n",
        "\n",
        "    for i in range(self.n_iters):\n",
        "            # slope equation y = mx + c \n",
        "\n",
        "            y_pred = np.dot(X , self.weights) + self.bias\n",
        "\n",
        "            # loss function\n",
        "\n",
        "            dw = (1/n_samples) * np.dot(X, (y_pred - y))\n",
        "            db = (1/n_samples) * np.dot(y_pred - y)\n",
        "            \n",
        "            # weight updation\n",
        "\n",
        "            self.weight = self.weight - self.lr *dw\n",
        "            self.bias = self.bias - self.lr *db\n",
        "\n",
        "# output \n",
        "  def y_predict(self,X):\n",
        "    y_pred = np.dot(X , self.weights) + self.bias\n",
        "    return y_pred\n",
        "\n",
        "\n",
        "\n"
      ]
    },
    {
      "cell_type": "markdown",
      "source": [
        "# **Logistic Regression**"
      ],
      "metadata": {
        "id": "qYY9ObmewHgY"
      }
    },
    {
      "cell_type": "code",
      "source": [
        "class LogisticRegression:\n",
        "\n",
        "  def sigmoid(x):\n",
        "    return 1/(1+np.exp(-x))\n",
        "\n",
        "  #initilazation\n",
        "  def __init__(self,lr = 0.001, n_iters = 1000):\n",
        "    self.lr = lr\n",
        "    self.n_iters = n_iters\n",
        "    self.bias = None\n",
        "    self.weights = None\n",
        "\n",
        "  def fit(self, X, y):\n",
        "    n_samples,n_features = X.shape()\n",
        "    self.weights = np.zeros(n_features)\n",
        "    self.bias = 0\n",
        "\n",
        "    for i in range(self.n_iters):\n",
        "      #linear predections\n",
        "      linear_pred = np.dot(X, self.weights) +self.bias\n",
        "\n",
        "      # sigmoid finction \n",
        "      predictions = sigmoid(linear_pred)\n",
        "\n",
        "      #derrivative\n",
        "\n",
        "      dw = (1/n_samples) * np.dot(X.T, (predictions - y))\n",
        "      db = (1/n_samples) * np.sum(predictions-y)\n",
        "\n",
        "      # weight updation\n",
        "      self.weights = self.weights - self.lr*dw\n",
        "      self.bias = self.bias - self.lr*db\n",
        "      \n",
        "  def predict(self, X):\n",
        "      linear_pred = np.dot(X, self.weights) + self.bias\n",
        "      y_pred = sigmoid(linear_pred)\n",
        "      class_pred = [0 if y<=0.5 else 1 for y in y_pred]\n",
        "      return class_pred\n",
        "\n",
        "\n",
        "\n",
        "    "
      ],
      "metadata": {
        "id": "CHOoWGbnXM2m"
      },
      "execution_count": 8,
      "outputs": []
    }
  ]
}